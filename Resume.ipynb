{
 "cells": [
  {
   "cell_type": "markdown",
   "metadata": {},
   "source": [
    "# Nitish Gaddam"
   ]
  },
  {
   "cell_type": "markdown",
   "metadata": {},
   "source": [
    "#### nitishg@bu.edu | (978)654-1352 | linkedin.com/in/nitish-gaddam/ | github.com/nishgaddam"
   ]
  },
  {
   "cell_type": "markdown",
   "metadata": {},
   "source": [
    "### EDUCATION"
   ]
  },
  {
   "cell_type": "markdown",
   "metadata": {},
   "source": [
    "- Master of Science in Computer Science\t\n",
    "    Completed: May 2018\n",
    "    Major: Machine Learning\n",
    "    Boston University, Boston, USA\n",
    "- Bachelor of Technology in Computer Science\t\n",
    "    Completed: May 2013\n",
    "    Osmania University, Hyderabad, India"
   ]
  },
  {
   "cell_type": "markdown",
   "metadata": {},
   "source": [
    "### PROFESSIONAL EXPERIENCE"
   ]
  },
  {
   "cell_type": "markdown",
   "metadata": {},
   "source": [
    "- Machine Learning Research Assistant\n",
    "   - (Boston University)\n",
    "   - Aug 2017- Feb 2018\n",
    "    - Assisted Dr.Eric J Braude on his research. Worked on neural networks to identify objects within the dataset. Implemented processes within existing Machine Learning framework, hyper-parameter optimization, \n",
    "    - Analyzed performance of image segmentation using convolutional neural networks.\n",
    "    - Analyzed performance of recurrent neural networks for data over time.\n",
    "\n",
    "- Technical Program Lead \n",
    "   - (Speezo, Co-founder)\t\n",
    "   - Oct 2014 – Nov 2016\n",
    "    - Ecommerce startup named Speezo focused on providing hyperlocal On-demand grocery delivery\n",
    "    - Alcohol Delivery App: Developed a hybrid app for an on-demand alcohol delivery application. Integrated analytics, push notifications, crash reporting & debugging, maps, helped define UX flows and APIs, helped design the User Interface.\n",
    "    - Drivers’ Order Delivery App: Developed an application to process delivery orders directly through phone, with integration of map directions and in-app calling.\n",
    "\n",
    "- Data Analyst\n",
    "   - (Qualcomm)\t\n",
    "   - Aug 2013 – Oct 2014\n",
    "    - Successfully interpreted data to draw conclusions for managerial action and strategy. Designed and built statistical analysis models on data sets using Qlikview and Tableau. Successfully interpreted data to identify key metrics and draw conclusions.\n",
    "    - Designed and developed structures that maintain a qualitative control over the Off-Shore development teams that work for Qualcomm and used tools such as JIRA and Salesforce to analyze proprietary data."
   ]
  },
  {
   "cell_type": "markdown",
   "metadata": {},
   "source": [
    "### PROJECTS"
   ]
  },
  {
   "cell_type": "markdown",
   "metadata": {},
   "source": [
    "- Youtube-8M Video classification using Neural Networks\n",
    "     - Trained and evaluated the Yotube-8M database by building an LSTM and DENSE NN based learning model. Visualized the models and analyzed the data using Tensorboard and Pyplot.\n",
    "     - Analyzed the GAP (Global Average Precision) score of the existing model and used features such as Softmax and Relu to increase the overall label/confidence pair score.\n",
    "    \n",
    "- Boston University Data Science Projects\n",
    "    - Ride Share (Case Study): Built an interpretable model logistic to discover patterns most predictive of customer retention. Presented possible actions to improve customer retention. \n",
    "    - MovieLense Movie Recommendation System: Built a movie recommendation engine using collaborative filtering techniques like Matrix factorization, clustering\n",
    "    \n",
    "- PREXEL\n",
    "    - Developed a Python based application named PREXEL to demonstrate Incremental UML for Agile Development.\n",
    "    - PREXEL minimizes interruptions in coding by allowing simple in-line specifications which automatically synthesize in-code ASCII class models, as well as class skeletons, method skeletons, and class relationships.\n",
    "    \n",
    "- Clustering of Image Data using Fuzzy-C Means and Fuzzy-K Means\n",
    "    - Built an image classifier that can calculate the fuzzy scores of images based on their (R, G, B) values.\n",
    "    - The python classifier calculates the Fuzzy-C Means and K-Means scores of each image and matches to the more relevant cluster."
   ]
  },
  {
   "cell_type": "markdown",
   "metadata": {},
   "source": [
    "### TECHNICAL SKILLS"
   ]
  },
  {
   "cell_type": "markdown",
   "metadata": {},
   "source": [
    "- Languages: Python, Python(Django),  R(R-Studio), Java, HTML, CSS, JavaScript\n",
    "- ML Libraries/Tools: TensorFlow, Scikit-Learn, Numpy, Matplotlib, Tableau\n",
    "- Statistics: Probability, Hypothesis Testing, Regression, Time-Series Analysis\n",
    "- Database: SQL, MySQL, NoSQL, Amazon AWS, Hadoop\n",
    "- Tools: R, RStudio, GIT, SKlearn, Jupyter Notebook, Anaconda, Google Analytics, Webmaster Tools"
   ]
  },
  {
   "cell_type": "code",
   "execution_count": null,
   "metadata": {},
   "outputs": [],
   "source": []
  }
 ],
 "metadata": {
  "kernelspec": {
   "display_name": "Python 3",
   "language": "python",
   "name": "python3"
  },
  "language_info": {
   "codemirror_mode": {
    "name": "ipython",
    "version": 3
   },
   "file_extension": ".py",
   "mimetype": "text/x-python",
   "name": "python",
   "nbconvert_exporter": "python",
   "pygments_lexer": "ipython3",
   "version": "3.6.6"
  }
 },
 "nbformat": 4,
 "nbformat_minor": 2
}
